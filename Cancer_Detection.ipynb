{
  "nbformat": 4,
  "nbformat_minor": 0,
  "metadata": {
    "colab": {
      "name": "Cancer_Detection.ipynb",
      "provenance": [],
      "collapsed_sections": []
    },
    "kernelspec": {
      "display_name": "Python 3",
      "language": "python",
      "name": "python3"
    },
    "language_info": {
      "codemirror_mode": {
        "name": "ipython",
        "version": 3
      },
      "file_extension": ".py",
      "mimetype": "text/x-python",
      "name": "python",
      "nbconvert_exporter": "python",
      "pygments_lexer": "ipython3",
      "version": "3.7.0-final"
    }
  },
  "cells": [
    {
      "cell_type": "code",
      "metadata": {
        "id": "lFpekip24uOj"
      },
      "source": [
        "import numpy as np \n",
        "import pandas as pd \n",
        "import matplotlib.pyplot as plt \n",
        "import tensorflow as tf\n",
        "import pathlib\n",
        "import os\n",
        "import tensorflow_hub as hub\n",
        "from PIL import Image\n",
        "from PIL import ImageOps\n",
        "from tensorflow.keras import layers\n",
        "from tensorflow.keras.layers.experimental import preprocessing\n",
        "from sklearn.model_selection import train_test_split"
      ],
      "execution_count": null,
      "outputs": []
    },
    {
      "cell_type": "code",
      "metadata": {
        "id": "Jejp9-_QhGNM"
      },
      "source": [
        "!pip install tensorflow==2.3.1\n"
      ],
      "execution_count": null,
      "outputs": []
    },
    {
      "cell_type": "code",
      "metadata": {
        "colab": {
          "base_uri": "https://localhost:8080/"
        },
        "id": "I-wojQMe4uOm",
        "outputId": "44ea3413-b403-4523-c118-c266dc11fc6e"
      },
      "source": [
        "print(tf.version.VERSION)"
      ],
      "execution_count": null,
      "outputs": [
        {
          "output_type": "stream",
          "text": [
            "2.3.1\n"
          ],
          "name": "stdout"
        }
      ]
    },
    {
      "cell_type": "code",
      "metadata": {
        "id": "zb-TmxsY4uOo"
      },
      "source": [
        "training_data = tf.keras.utils.get_file(fname='Training', origin='https://s3-us-west-1.amazonaws.com/udacity-dlnfd/datasets/skin-cancer/train.zip', extract=True, archive_format='zip', cache_dir='data')\n",
        "validation_data = tf.keras.utils.get_file(fname='Validation', origin='https://s3-us-west-1.amazonaws.com/udacity-dlnfd/datasets/skin-cancer/valid.zip', extract=True, archive_format='zip', cache_dir='data')\n",
        "testing_data = tf.keras.utils.get_file(fname='Testing', origin='https://s3-us-west-1.amazonaws.com/udacity-dlnfd/datasets/skin-cancer/test.zip', extract=True, archive_format='zip', cache_dir='data')"
      ],
      "execution_count": null,
      "outputs": []
    },
    {
      "cell_type": "code",
      "metadata": {
        "colab": {
          "base_uri": "https://localhost:8080/"
        },
        "id": "uys1nIGo5CMt",
        "outputId": "a89cb911-9285-46f0-ad72-a97937bee9e4"
      },
      "source": [
        "from google.colab import drive\n",
        "drive.mount('/content/drive')"
      ],
      "execution_count": null,
      "outputs": [
        {
          "output_type": "stream",
          "text": [
            "Drive already mounted at /content/drive; to attempt to forcibly remount, call drive.mount(\"/content/drive\", force_remount=True).\n"
          ],
          "name": "stdout"
        }
      ]
    },
    {
      "cell_type": "code",
      "metadata": {
        "id": "eDfPi1lC4uOp"
      },
      "source": [
        "training_data = pathlib.Path('/content/drive/MyDrive/CancerDatasets/datasets/train')\n",
        "testing_data = pathlib.Path('/content/drive/MyDrive/CancerDatasets/datasets/test')\n",
        "validation_data = pathlib.Path('/content/drive/MyDrive/CancerDatasets/datasets/valid')"
      ],
      "execution_count": null,
      "outputs": []
    },
    {
      "cell_type": "code",
      "metadata": {
        "colab": {
          "base_uri": "https://localhost:8080/"
        },
        "id": "m28DjN_C4uOq",
        "outputId": "e5cbf88e-add8-43fd-8558-979d1daad94d"
      },
      "source": [
        "train_image_count = len(list(training_data.glob('*/*.jpg')))\n",
        "print(train_image_count)"
      ],
      "execution_count": null,
      "outputs": [
        {
          "output_type": "stream",
          "text": [
            "2000\n"
          ],
          "name": "stdout"
        }
      ]
    },
    {
      "cell_type": "code",
      "metadata": {
        "colab": {
          "base_uri": "https://localhost:8080/"
        },
        "id": "o7bACvE94uOr",
        "outputId": "91ee4510-a021-4757-cb38-3e966c73d579"
      },
      "source": [
        "val_image_count = len(list(validation_data.glob('*/*.jpg')))\n",
        "print(val_image_count)"
      ],
      "execution_count": null,
      "outputs": [
        {
          "output_type": "stream",
          "text": [
            "150\n"
          ],
          "name": "stdout"
        }
      ]
    },
    {
      "cell_type": "code",
      "metadata": {
        "colab": {
          "base_uri": "https://localhost:8080/"
        },
        "id": "IqSFaMXw4uOs",
        "outputId": "7d41b12f-175a-463a-aed5-4225ecd57f3e"
      },
      "source": [
        "test_image_count = len(list(testing_data.glob('*/*.jpg')))\n",
        "print(test_image_count)"
      ],
      "execution_count": null,
      "outputs": [
        {
          "output_type": "stream",
          "text": [
            "600\n"
          ],
          "name": "stdout"
        }
      ]
    },
    {
      "cell_type": "markdown",
      "metadata": {
        "id": "Zm4T3LX44uOt"
      },
      "source": [
        "## Writing Input Pipeline"
      ]
    },
    {
      "cell_type": "code",
      "metadata": {
        "colab": {
          "base_uri": "https://localhost:8080/"
        },
        "id": "CkSaXeiq4uOt",
        "outputId": "f6d029b2-e724-4ffb-9219-7745b46c2c03"
      },
      "source": [
        "class_names = np.array(sorted(image.stem for image in training_data.glob('*')))\n",
        "class_names"
      ],
      "execution_count": null,
      "outputs": [
        {
          "output_type": "execute_result",
          "data": {
            "text/plain": [
              "array(['melanoma', 'nevus', 'seborrheic_keratosis'], dtype='<U20')"
            ]
          },
          "metadata": {
            "tags": []
          },
          "execution_count": 4
        }
      ]
    },
    {
      "cell_type": "code",
      "metadata": {
        "id": "8CzxwueW4uOu"
      },
      "source": [
        "def get_label(file_path):\n",
        "    path = tf.strings.split(file_path, '/')\n",
        "    label = path[-2]\n",
        "    y = label == class_names\n",
        "    return y"
      ],
      "execution_count": null,
      "outputs": []
    },
    {
      "cell_type": "code",
      "metadata": {
        "id": "PGh5MH4J4uOv"
      },
      "source": [
        "def get_image(file_path):\n",
        "    img = tf.io.read_file(file_path)\n",
        "    img = tf.image.decode_jpeg(img, channels=3)\n",
        "    return tf.image.resize(img, [256,256])"
      ],
      "execution_count": null,
      "outputs": []
    },
    {
      "cell_type": "code",
      "metadata": {
        "id": "nhPLuPX24uOw"
      },
      "source": [
        "def get_pair(file_path):\n",
        "    return get_image(file_path), get_label(file_path)"
      ],
      "execution_count": null,
      "outputs": []
    },
    {
      "cell_type": "code",
      "metadata": {
        "id": "iME-tEQT4uOw"
      },
      "source": [
        "train_ds = [str(img) for img in training_data.glob(\"*/*.jpg\")]\n",
        "valid_ds = [str(img) for img in validation_data.glob(\"*/*.jpg\")]\n",
        "test_ds = [str(img) for img in testing_data.glob(\"*/*.jpg\")]"
      ],
      "execution_count": null,
      "outputs": []
    },
    {
      "cell_type": "code",
      "metadata": {
        "id": "0X4KHrGp4uOy"
      },
      "source": [
        "# Stratified Subsampling\n",
        "\n",
        "def create_dataset(path_list, per=0.1):\n",
        "    y = [np.int(get_label(img)) for img in path_list]\n",
        "    unselected_x, selected_x, unselected_y, selected_y = train_test_split(path_list, y, shuffle=True, test_size=per, stratify=y)\n",
        "    return selected_x"
      ],
      "execution_count": null,
      "outputs": []
    },
    {
      "cell_type": "code",
      "metadata": {
        "id": "oVp7OJYP4uOy"
      },
      "source": [
        "def gen_pair(path_list):\n",
        "    for path in path_list:\n",
        "        yield get_pair(path)"
      ],
      "execution_count": null,
      "outputs": []
    },
    {
      "cell_type": "code",
      "metadata": {
        "id": "O1mzj-mN4uOz"
      },
      "source": [
        "train_ds = tf.data.Dataset.from_tensor_slices(train_ds)\n",
        "valid_ds = tf.data.Dataset.from_tensor_slices(valid_ds)\n",
        "test_ds = tf.data.Dataset.from_tensor_slices(test_ds)"
      ],
      "execution_count": null,
      "outputs": []
    },
    {
      "cell_type": "code",
      "metadata": {
        "id": "F4oh_duA4uO0"
      },
      "source": [
        "train_ds = train_ds.map(get_pair)\n",
        "valid_ds = valid_ds.map(get_pair)\n",
        "test_ds = test_ds.map(get_pair)"
      ],
      "execution_count": null,
      "outputs": []
    },
    {
      "cell_type": "code",
      "metadata": {
        "id": "1_S30_IG4uO0"
      },
      "source": [
        "#AUTOTUNE = tf.data.AUTOTUNE\n",
        "def configure_for_performance(ds):\n",
        "    ds = ds.cache()\n",
        "    ds = ds.shuffle(buffer_size=2000)\n",
        "    ds = ds.batch(32)\n",
        "    ds = ds.prefetch(buffer_size=1)\n",
        "    return ds"
      ],
      "execution_count": null,
      "outputs": []
    },
    {
      "cell_type": "code",
      "metadata": {
        "id": "4vdsVPa64uO1"
      },
      "source": [
        "train_ds = configure_for_performance(train_ds)\n",
        "valid_ds = configure_for_performance(valid_ds)\n",
        "test_ds = configure_for_performance(test_ds)"
      ],
      "execution_count": null,
      "outputs": []
    },
    {
      "cell_type": "code",
      "metadata": {
        "colab": {
          "base_uri": "https://localhost:8080/"
        },
        "id": "sj8RCzEz4uO1",
        "outputId": "a00099b4-a7c9-4dc4-c459-1e87b87424ca"
      },
      "source": [
        "test_ds.element_spec"
      ],
      "execution_count": null,
      "outputs": [
        {
          "output_type": "execute_result",
          "data": {
            "text/plain": [
              "(TensorSpec(shape=(None, 256, 256, 3), dtype=tf.float32, name=None),\n",
              " TensorSpec(shape=(None, 3), dtype=tf.bool, name=None))"
            ]
          },
          "metadata": {
            "tags": []
          },
          "execution_count": 19
        }
      ]
    },
    {
      "cell_type": "code",
      "metadata": {
        "id": "aOX4OBj64uO2"
      },
      "source": [
        "plt.figure(figsize=(10,10))\n",
        "\n",
        "for images, labels in train_ds.take(1):\n",
        "    for i in range(9):\n",
        "        ax = plt.subplot(3,3,i+1)\n",
        "        plt.imshow(images[i].numpy().astype(\"uint8\"))\n",
        "        plt.title(labels[i].numpy())\n",
        "        plt.axis(\"off\")"
      ],
      "execution_count": null,
      "outputs": []
    },
    {
      "cell_type": "markdown",
      "metadata": {
        "id": "c7KoHCMu4uO3"
      },
      "source": [
        "## Building Model"
      ]
    },
    {
      "cell_type": "code",
      "metadata": {
        "colab": {
          "base_uri": "https://localhost:8080/"
        },
        "id": "K8kp4Ybn4uO3",
        "outputId": "d29c9989-520a-4e9e-90b4-999f5cce125b"
      },
      "source": [
        "class_names"
      ],
      "execution_count": null,
      "outputs": [
        {
          "output_type": "execute_result",
          "data": {
            "text/plain": [
              "array(['melanoma', 'nevus', 'seborrheic_keratosis'], dtype='<U20')"
            ]
          },
          "metadata": {
            "tags": []
          },
          "execution_count": 30
        }
      ]
    },
    {
      "cell_type": "code",
      "metadata": {
        "id": "XUktAWtz4uO4"
      },
      "source": [
        "preprocessing_layer = tf.keras.layers.experimental.preprocessing.Rescaling(1./255, input_shape=(256,256,3))"
      ],
      "execution_count": null,
      "outputs": []
    },
    {
      "cell_type": "code",
      "metadata": {
        "colab": {
          "base_uri": "https://localhost:8080/"
        },
        "id": "SKPr71bhPpJi",
        "outputId": "410f1ca5-9b2a-481b-ac5e-27703d413e06"
      },
      "source": [
        "#---Testing CNN Model\n",
        "\n",
        "model = tf.keras.Sequential([\n",
        "    layers.Conv2D(32, 3, padding='same', activation='relu', input_shape=(256,256,3)),\n",
        "    layers.MaxPool2D(5,5,'same'),\n",
        "    layers.Conv2D(64,5,padding='same',activation='relu'),\n",
        "    layers.MaxPool2D(5,5,'same'),\n",
        "    layers.Conv2D(126,5,padding='same',activation='relu'),\n",
        "    layers.MaxPool2D(5,5,'same'),\n",
        "    layers.Flatten(),\n",
        "    layers.Dense(500,'relu'),\n",
        "    layers.Dropout(0.5),\n",
        "    layers.Dense(25,'relu'),\n",
        "    layers.Dense(3)\n",
        "])\n",
        "\n",
        "model.summary()"
      ],
      "execution_count": null,
      "outputs": [
        {
          "output_type": "stream",
          "text": [
            "Model: \"sequential\"\n",
            "_________________________________________________________________\n",
            "Layer (type)                 Output Shape              Param #   \n",
            "=================================================================\n",
            "conv2d (Conv2D)              (None, 254, 254, 32)      896       \n",
            "_________________________________________________________________\n",
            "max_pooling2d (MaxPooling2D) (None, 51, 51, 32)        0         \n",
            "_________________________________________________________________\n",
            "conv2d_1 (Conv2D)            (None, 51, 51, 64)        51264     \n",
            "_________________________________________________________________\n",
            "max_pooling2d_1 (MaxPooling2 (None, 11, 11, 64)        0         \n",
            "_________________________________________________________________\n",
            "conv2d_2 (Conv2D)            (None, 11, 11, 126)       201726    \n",
            "_________________________________________________________________\n",
            "max_pooling2d_2 (MaxPooling2 (None, 3, 3, 126)         0         \n",
            "_________________________________________________________________\n",
            "flatten (Flatten)            (None, 1134)              0         \n",
            "_________________________________________________________________\n",
            "dense (Dense)                (None, 500)               567500    \n",
            "_________________________________________________________________\n",
            "dropout (Dropout)            (None, 500)               0         \n",
            "_________________________________________________________________\n",
            "dense_1 (Dense)              (None, 25)                12525     \n",
            "_________________________________________________________________\n",
            "dense_2 (Dense)              (None, 3)                 78        \n",
            "=================================================================\n",
            "Total params: 833,989\n",
            "Trainable params: 833,989\n",
            "Non-trainable params: 0\n",
            "_________________________________________________________________\n"
          ],
          "name": "stdout"
        }
      ]
    },
    {
      "cell_type": "code",
      "metadata": {
        "id": "HX4jDTB_PseS"
      },
      "source": [
        "model.compile(optimizer='adam', loss=tf.losses.SparseCategoricalCrossentropy(from_logits=True), metrics=['accuracy'])"
      ],
      "execution_count": null,
      "outputs": []
    },
    {
      "cell_type": "code",
      "metadata": {
        "id": "tMqBke0PPxdl"
      },
      "source": [
        "checkpoint_path = '/content/drive/MyDrive/checkpoints/cp_ckpt'\n",
        "checkpoint_dir = os.path.dirname(checkpoint_path)\n",
        "\n",
        "cp_callback = tf.keras.callbacks.ModelCheckpoint(filepath=checkpoint_path,\n",
        "                                                 monitor='val_accuracy',\n",
        "                                                 save_best_only=True,\n",
        "                                                 mode='max',\n",
        "                                                 save_weights_only=True,\n",
        "                                                 verbose=1)\n",
        "\n",
        "history = model.fit(train_ds, validation_data=valid_ds,epochs=20,callbacks=[cp_callback])"
      ],
      "execution_count": null,
      "outputs": []
    },
    {
      "cell_type": "code",
      "metadata": {
        "colab": {
          "base_uri": "https://localhost:8080/"
        },
        "id": "Bu_xFg8uQPu5",
        "outputId": "4e63bc39-ed70-4cda-f6e3-6a364f7e9844"
      },
      "source": [
        "model.save('/content/drive/MyDrive/checkpoints/cp_ckpt')"
      ],
      "execution_count": null,
      "outputs": [
        {
          "output_type": "stream",
          "text": [
            "INFO:tensorflow:Assets written to: /content/drive/MyDrive/checkpoints/cp_ckpt4/assets\n"
          ],
          "name": "stdout"
        }
      ]
    },
    {
      "cell_type": "code",
      "metadata": {
        "id": "jaGMMQ7wZU3o"
      },
      "source": [
        "model = tf.keras.models.load_model('/content/drive/MyDrive/checkpoints/cp_ckpt')"
      ],
      "execution_count": null,
      "outputs": []
    },
    {
      "cell_type": "code",
      "metadata": {
        "colab": {
          "base_uri": "https://localhost:8080/"
        },
        "id": "BCAF_lNywPj_",
        "outputId": "ab0bbf90-d891-416e-e0b4-f69b445c7226"
      },
      "source": [
        "acc, loss = model.evaluate(test_ds, verbose=2)"
      ],
      "execution_count": null,
      "outputs": [
        {
          "output_type": "stream",
          "text": [
            "19/19 - 9s - loss: 0.7408 - accuracy: 0.6800\n"
          ],
          "name": "stdout"
        }
      ]
    },
    {
      "cell_type": "markdown",
      "metadata": {
        "id": "FOG2Aqg0BMoz"
      },
      "source": [
        "## Data Augmentation"
      ]
    },
    {
      "cell_type": "code",
      "metadata": {
        "id": "j-LBZ6NtBOqM"
      },
      "source": [
        "img, label = next(iter(train_ds))"
      ],
      "execution_count": null,
      "outputs": []
    },
    {
      "cell_type": "code",
      "metadata": {
        "id": "GqYXY7gVBZ7t"
      },
      "source": [
        "data_augmentation = tf.keras.Sequential([\n",
        "      preprocessing.Rescaling(1./255),\n",
        "      preprocessing.RandomFlip(\"horizontal_and_vertical\"),\n",
        "      preprocessing.RandomRotation(0.2),\n",
        "])"
      ],
      "execution_count": null,
      "outputs": []
    },
    {
      "cell_type": "code",
      "metadata": {
        "id": "zziopzwSVdZS"
      },
      "source": [
        "img = img[3]\n",
        "label = label[3]\n",
        "\n",
        "img = tf.expand_dims(img, 0)"
      ],
      "execution_count": null,
      "outputs": []
    },
    {
      "cell_type": "code",
      "metadata": {
        "id": "ykNWBpmfUrUW"
      },
      "source": [
        "plt.figure(figsize=(10,10))\n",
        "for i in range(9):\n",
        "  augmented_image = data_augmentation(img)\n",
        "  ax = plt.subplot(3,3,i+1)\n",
        "  plt.imshow(augmented_image[0].numpy())\n",
        "  plt.axis(\"off\")"
      ],
      "execution_count": null,
      "outputs": []
    },
    {
      "cell_type": "code",
      "metadata": {
        "id": "Cns4glOQajHS"
      },
      "source": [
        "model = tf.keras.Sequential([\n",
        "          data_augmentation,\n",
        "          model\n",
        "])"
      ],
      "execution_count": null,
      "outputs": []
    },
    {
      "cell_type": "code",
      "metadata": {
        "id": "JUaUB37TbOJi"
      },
      "source": [
        "model.compile(optimizer='adam', loss=tf.losses.SparseCategoricalCrossentropy(from_logits=True), metrics=['accuracy'])"
      ],
      "execution_count": null,
      "outputs": []
    },
    {
      "cell_type": "code",
      "metadata": {
        "id": "OGcO1JYxU7jy"
      },
      "source": [
        "checkpoint_path = '/content/drive/MyDrive/checkpoints/cp_ckpt'\n",
        "checkpoint_dir = os.path.dirname(checkpoint_path)\n",
        "\n",
        "cp_callback = tf.keras.callbacks.ModelCheckpoint(filepath=checkpoint_path,\n",
        "                                                 monitor='val_accuracy',\n",
        "                                                 save_best_only=True,\n",
        "                                                 mode='max',\n",
        "                                                 save_weights_only=True,\n",
        "                                                 verbose=1)\n",
        "\n",
        "history = model.fit(train_ds, validation_data=valid_ds,epochs=20,callbacks=[cp_callback])"
      ],
      "execution_count": null,
      "outputs": []
    },
    {
      "cell_type": "code",
      "metadata": {
        "id": "bArB6KMvusFn"
      },
      "source": [
        "acc = history.history['accuracy']\n",
        "val_acc = history.history['val_accuracy']\n",
        "\n",
        "loss = history.history['loss']\n",
        "val_loss = history.history['val_loss']\n",
        "\n",
        "plt.figure(figsize=(10,10))\n",
        "epoch_range = range(20)\n",
        "plt.subplot(1,2,1)\n",
        "plt.plot(epoch_range, acc, label=\"Training Accuracy\")\n",
        "plt.plot(epoch_range, val_acc, label=\"Validation Accuracy\")\n",
        "plt.legend(loc=\"lower right\")\n",
        "plt.title(\"Training and Validation Accuracy\")\n",
        "\n",
        "plt.subplot(1,2,2)\n",
        "plt.plot(epoch_range, loss, label=\"Training Loss\")\n",
        "plt.plot(epoch_range, val_loss, label=\"Validation Loss\")\n",
        "plt.legend(loc=\"lower right\")\n",
        "plt.title(\"Training and Validation Loss\")\n",
        "plt.show()"
      ],
      "execution_count": null,
      "outputs": []
    },
    {
      "cell_type": "markdown",
      "metadata": {
        "id": "ppiWP-0i5Lku"
      },
      "source": [
        "## Transfer Learning"
      ]
    },
    {
      "cell_type": "markdown",
      "metadata": {
        "id": "_AmeNNNDca5R"
      },
      "source": [
        "### Training Model for Seborrheic Keratosis"
      ]
    },
    {
      "cell_type": "code",
      "metadata": {
        "colab": {
          "base_uri": "https://localhost:8080/"
        },
        "id": "b9buioEAZskQ",
        "outputId": "85bb54a9-0feb-4efa-965f-092da7114eca"
      },
      "source": [
        "class_names"
      ],
      "execution_count": null,
      "outputs": [
        {
          "output_type": "execute_result",
          "data": {
            "text/plain": [
              "array(['melanoma', 'nevus', 'seborrheic_keratosis'], dtype='<U20')"
            ]
          },
          "metadata": {
            "tags": []
          },
          "execution_count": 8
        }
      ]
    },
    {
      "cell_type": "code",
      "metadata": {
        "id": "qirmGKbLY_PG"
      },
      "source": [
        "def sk_get_label(file_path):\n",
        "    path = tf.strings.split(file_path, '/')\n",
        "    label = path[-2]\n",
        "    \n",
        "    if label == 'melanoma' or label == 'nevus':\n",
        "      return 0\n",
        "    else:\n",
        "      return 1"
      ],
      "execution_count": null,
      "outputs": []
    },
    {
      "cell_type": "code",
      "metadata": {
        "id": "7cXg-m9fauYs"
      },
      "source": [
        "def get_image(file_path):\n",
        "    img = tf.io.read_file(file_path)\n",
        "    img = tf.image.decode_jpeg(img, channels=3)\n",
        "    return tf.image.resize(img, [256,256])"
      ],
      "execution_count": null,
      "outputs": []
    },
    {
      "cell_type": "code",
      "metadata": {
        "id": "RqwT9OgUaxj0"
      },
      "source": [
        "def sk_get_pair(file_path):\n",
        "    return get_image(file_path), sk_get_label(file_path)"
      ],
      "execution_count": null,
      "outputs": []
    },
    {
      "cell_type": "code",
      "metadata": {
        "id": "xwFKno-XZ3cW"
      },
      "source": [
        "sk_train_ds = [str(img) for img in training_data.glob(\"*/*.jpg\")]\n",
        "sk_valid_ds = [str(img) for img in validation_data.glob(\"*/*.jpg\")]\n",
        "sk_test_ds  = [str(img) for img in testing_data.glob(\"*/*.jpg\")]"
      ],
      "execution_count": null,
      "outputs": []
    },
    {
      "cell_type": "code",
      "metadata": {
        "id": "IjaMIQlyaLg1"
      },
      "source": [
        "sk_train_ds = tf.data.Dataset.from_tensor_slices(sk_train_ds)\n",
        "sk_valid_ds = tf.data.Dataset.from_tensor_slices(sk_valid_ds)\n",
        "sk_test_ds = tf.data.Dataset.from_tensor_slices(sk_test_ds)"
      ],
      "execution_count": null,
      "outputs": []
    },
    {
      "cell_type": "code",
      "metadata": {
        "id": "N_A77Kg4a00x"
      },
      "source": [
        "sk_train_ds = sk_train_ds.map(sk_get_pair)\n",
        "sk_valid_ds = sk_valid_ds.map(sk_get_pair)\n",
        "sk_test_ds = sk_test_ds.map(sk_get_pair)"
      ],
      "execution_count": null,
      "outputs": []
    },
    {
      "cell_type": "code",
      "metadata": {
        "id": "lvnVvZ7_bZaf"
      },
      "source": [
        "#AUTOTUNE = tf.data.AUTOTUNE\n",
        "def configure_for_performance(ds):\n",
        "    ds = ds.cache()\n",
        "    ds = ds.shuffle(buffer_size=2000)\n",
        "    ds = ds.batch(32)\n",
        "    ds = ds.prefetch(buffer_size=1)\n",
        "    return ds"
      ],
      "execution_count": null,
      "outputs": []
    },
    {
      "cell_type": "code",
      "metadata": {
        "id": "66b_teVmbgyF"
      },
      "source": [
        "sk_train_ds = configure_for_performance(sk_train_ds)\n",
        "sk_valid_ds = configure_for_performance(sk_valid_ds)\n",
        "sk_test_ds = configure_for_performance(sk_test_ds)"
      ],
      "execution_count": null,
      "outputs": []
    },
    {
      "cell_type": "code",
      "metadata": {
        "id": "IT8l6nTdSwHN"
      },
      "source": [
        "# Model taken from https://arxiv.org/ftp/arxiv/papers/1703/1703.03108.pdf\n",
        "# Model used for Transfer Learning A. Kolesnikov, L. Beyer, X. Zhai, J. Puigcerver, J. Yung, S. Gelly and N. Houlsby: Big Transfer (BiT): General Visual Representation Learning.\n",
        "\n",
        "IMAGE_SHAPE = (256,256,3)\n",
        "classifier_model = 'https://tfhub.dev/google/bit/m-r50x1/1'\n",
        "\n",
        "classifier = tf.keras.Sequential([\n",
        "          hub.KerasLayer(classifier_model, input_shape=IMAGE_SHAPE)\n",
        "])"
      ],
      "execution_count": null,
      "outputs": []
    },
    {
      "cell_type": "code",
      "metadata": {
        "id": "r54UuWYeq54z"
      },
      "source": [
        "data_augmentation = tf.keras.Sequential([\n",
        "      preprocessing.Rescaling(1./255),\n",
        "      preprocessing.RandomFlip(\"horizontal_and_vertical\"),\n",
        "      preprocessing.RandomRotation(0.2),\n",
        "])"
      ],
      "execution_count": null,
      "outputs": []
    },
    {
      "cell_type": "code",
      "metadata": {
        "id": "roDk0u5ZqI3U"
      },
      "source": [
        "# Creating Ensemble Model\n",
        "\n",
        "inputs = tf.keras.Input(shape=(256,256,3))\n",
        "transformation1 = data_augmentation(inputs)\n",
        "transformation2 = data_augmentation(inputs)\n",
        "transformation3 = data_augmentation(inputs)\n",
        "\n",
        "feature_set1 = classifier(inputs, training=False)\n",
        "feature_set1 = layers.Dropout(0.5)(feature_set1)\n",
        "\n",
        "feature_set2 = classifier(transformation1, training=False)\n",
        "feature_set2 = layers.Dropout(0.5)(feature_set2)\n",
        "\n",
        "feature_set3 = classifier(transformation2, training=False)\n",
        "feature_set3 = layers.Dropout(0.5)(feature_set3)\n",
        "\n",
        "feature_set4 = classifier(transformation3, training=False)\n",
        "feature_set4 = layers.Dropout(0.5)(feature_set4)\n",
        "\n",
        "x = layers.concatenate([feature_set1, feature_set2, feature_set3, feature_set4])\n",
        "output = layers.Dense(1, activation='sigmoid')(x)\n",
        "\n",
        "seborrheic_model = tf.keras.Model(inputs, output)"
      ],
      "execution_count": null,
      "outputs": []
    },
    {
      "cell_type": "code",
      "metadata": {
        "colab": {
          "base_uri": "https://localhost:8080/",
          "height": 564
        },
        "id": "0adwooClxH4q",
        "outputId": "46d33627-075b-4492-83f1-081419be0a70"
      },
      "source": [
        "tf.keras.utils.plot_model(seborrheic_model)"
      ],
      "execution_count": null,
      "outputs": [
        {
          "output_type": "execute_result",
          "data": {
            "image/png": "[encoded data removed]",
            "text/plain": [
              "<IPython.core.display.Image object>"
            ]
          },
          "metadata": {
            "tags": []
          },
          "execution_count": 26
        }
      ]
    },
    {
      "cell_type": "code",
      "metadata": {
        "id": "44Coh9-xxe1z"
      },
      "source": [
        "seborrheic_model.compile(optimizer=tf.keras.optimizers.Adam(0.001),\n",
        "              loss = tf.keras.losses.BinaryCrossentropy(),\n",
        "              metrics=[tf.keras.metrics.AUC()])"
      ],
      "execution_count": null,
      "outputs": []
    },
    {
      "cell_type": "code",
      "metadata": {
        "colab": {
          "base_uri": "https://localhost:8080/"
        },
        "id": "_JJsZL7E7t7b",
        "outputId": "c242d482-530b-45a0-a142-5e5c2e12e0e7"
      },
      "source": [
        "sk_train_ds.element_spec"
      ],
      "execution_count": null,
      "outputs": [
        {
          "output_type": "execute_result",
          "data": {
            "text/plain": [
              "(TensorSpec(shape=(None, 256, 256, 3), dtype=tf.float32, name=None),\n",
              " TensorSpec(shape=(None,), dtype=tf.int32, name=None))"
            ]
          },
          "metadata": {
            "tags": []
          },
          "execution_count": 28
        }
      ]
    },
    {
      "cell_type": "code",
      "metadata": {
        "id": "N9KGhcIo0VDW"
      },
      "source": [
        "history = seborrheic_model.fit(sk_train_ds, validation_data=sk_valid_ds, epochs=20)"
      ],
      "execution_count": null,
      "outputs": []
    },
    {
      "cell_type": "code",
      "metadata": {
        "colab": {
          "base_uri": "https://localhost:8080/"
        },
        "id": "v75F1-aG2bfC",
        "outputId": "9c113332-b4d3-4e19-d10b-40dab4316d5a"
      },
      "source": [
        "seborrheic_model.save('/content/drive/MyDrive/checkpoints')"
      ],
      "execution_count": null,
      "outputs": [
        {
          "output_type": "stream",
          "text": [
            "INFO:tensorflow:Assets written to: /content/drive/MyDrive/checkpoints/assets\n"
          ],
          "name": "stdout"
        },
        {
          "output_type": "stream",
          "text": [
            "INFO:tensorflow:Assets written to: /content/drive/MyDrive/checkpoints/assets\n"
          ],
          "name": "stderr"
        }
      ]
    },
    {
      "cell_type": "code",
      "metadata": {
        "id": "RGGlQmRhL_SB"
      },
      "source": [
        "seborrheic_model = tf.keras.models.load_model('/content/drive/MyDrive/checkpoints')"
      ],
      "execution_count": null,
      "outputs": []
    },
    {
      "cell_type": "code",
      "metadata": {
        "colab": {
          "base_uri": "https://localhost:8080/"
        },
        "id": "ZbOUaRpScRS1",
        "outputId": "cb441d98-7436-4f21-9171-a1f4ea40e049"
      },
      "source": [
        "loss, acc = seborrheic_model.evaluate(sk_test_ds, verbose=2)"
      ],
      "execution_count": null,
      "outputs": [
        {
          "output_type": "stream",
          "text": [
            "19/19 - 16s - loss: 0.6333 - auc_1: 0.7969\n"
          ],
          "name": "stdout"
        }
      ]
    },
    {
      "cell_type": "code",
      "metadata": {
        "colab": {
          "base_uri": "https://localhost:8080/"
        },
        "id": "1TfeDcG4dPjj",
        "outputId": "5fc7619d-4b31-4c88-b5c6-1d88c546f78d"
      },
      "source": [
        "print(f\"The testing loss is {loss} and the testing accuracy is {acc}\")"
      ],
      "execution_count": null,
      "outputs": [
        {
          "output_type": "stream",
          "text": [
            "The testing loss is 0.6333078145980835 and the testing accuracy is 0.7968626618385315\n"
          ],
          "name": "stdout"
        }
      ]
    },
    {
      "cell_type": "markdown",
      "metadata": {
        "id": "FIhsNPFSRNg_"
      },
      "source": [
        "## Model for Melanoma"
      ]
    },
    {
      "cell_type": "code",
      "metadata": {
        "id": "wSciWI9vR45U",
        "colab": {
          "base_uri": "https://localhost:8080/"
        },
        "outputId": "2a83cfe2-fcfd-4308-8fdf-95e95465f097"
      },
      "source": [
        "class_names"
      ],
      "execution_count": null,
      "outputs": [
        {
          "output_type": "execute_result",
          "data": {
            "text/plain": [
              "array(['melanoma', 'nevus', 'seborrheic_keratosis'], dtype='<U20')"
            ]
          },
          "metadata": {
            "tags": []
          },
          "execution_count": 15
        }
      ]
    },
    {
      "cell_type": "code",
      "metadata": {
        "id": "3ZDBL-eGR45Z"
      },
      "source": [
        "def m_get_label(file_path):\n",
        "    path = tf.strings.split(file_path, '/')\n",
        "    label = path[-2]\n",
        "    \n",
        "    if label == 'nevus' or label == 'seborrheic_keratosis':\n",
        "      return 0\n",
        "    else:\n",
        "      return 1"
      ],
      "execution_count": null,
      "outputs": []
    },
    {
      "cell_type": "code",
      "metadata": {
        "id": "JY_wCQKfR45a"
      },
      "source": [
        "def get_image(file_path):\n",
        "    img = tf.io.read_file(file_path)\n",
        "    img = tf.image.decode_jpeg(img, channels=3)\n",
        "    return tf.image.resize(img, [256,256])"
      ],
      "execution_count": null,
      "outputs": []
    },
    {
      "cell_type": "code",
      "metadata": {
        "id": "IwPjNPglR45b"
      },
      "source": [
        "def m_get_pair(file_path):\n",
        "    return get_image(file_path), m_get_label(file_path)"
      ],
      "execution_count": null,
      "outputs": []
    },
    {
      "cell_type": "code",
      "metadata": {
        "id": "-tlK2V16R45c"
      },
      "source": [
        "m_train_ds = [str(img) for img in training_data.glob(\"*/*.jpg\")]\n",
        "m_valid_ds = [str(img) for img in validation_data.glob(\"*/*.jpg\")]\n",
        "m_test_ds  = [str(img) for img in testing_data.glob(\"*/*.jpg\")]"
      ],
      "execution_count": null,
      "outputs": []
    },
    {
      "cell_type": "code",
      "metadata": {
        "id": "Wd4xeuOvR45c"
      },
      "source": [
        "m_train_ds = tf.data.Dataset.from_tensor_slices(m_train_ds)\n",
        "m_valid_ds = tf.data.Dataset.from_tensor_slices(m_valid_ds)\n",
        "m_test_ds = tf.data.Dataset.from_tensor_slices(m_test_ds)"
      ],
      "execution_count": null,
      "outputs": []
    },
    {
      "cell_type": "code",
      "metadata": {
        "id": "7YnJ9A4PR45d"
      },
      "source": [
        "m_train_ds = m_train_ds.map(m_get_pair)\n",
        "m_valid_ds = m_valid_ds.map(m_get_pair)\n",
        "m_test_ds =  m_test_ds.map(m_get_pair)"
      ],
      "execution_count": null,
      "outputs": []
    },
    {
      "cell_type": "code",
      "metadata": {
        "id": "EFqVN1wjR45d"
      },
      "source": [
        "#AUTOTUNE = tf.data.AUTOTUNE\n",
        "def configure_for_performance(ds):\n",
        "    ds = ds.cache()\n",
        "    ds = ds.shuffle(buffer_size=2000)\n",
        "    ds = ds.batch(32)\n",
        "    ds = ds.prefetch(buffer_size=1)\n",
        "    return ds"
      ],
      "execution_count": null,
      "outputs": []
    },
    {
      "cell_type": "code",
      "metadata": {
        "id": "VT71YxQVR45e"
      },
      "source": [
        "m_train_ds = configure_for_performance(m_train_ds)\n",
        "m_valid_ds = configure_for_performance(m_valid_ds)\n",
        "m_test_ds =  configure_for_performance(m_test_ds)"
      ],
      "execution_count": null,
      "outputs": []
    },
    {
      "cell_type": "code",
      "metadata": {
        "id": "jHvpvsUTR45e"
      },
      "source": [
        "# Model taken from https://arxiv.org/ftp/arxiv/papers/1703/1703.03108.pdf\n",
        "# Model used for Transfer Learning A. Kolesnikov, L. Beyer, X. Zhai, J. Puigcerver, J. Yung, S. Gelly and N. Houlsby: Big Transfer (BiT): General Visual Representation Learning.\n",
        "\n",
        "IMAGE_SHAPE = (256,256,3)\n",
        "classifier_model = 'https://tfhub.dev/google/bit/m-r50x1/1'\n",
        "\n",
        "classifier = tf.keras.Sequential([\n",
        "          hub.KerasLayer(classifier_model, input_shape=IMAGE_SHAPE)\n",
        "])"
      ],
      "execution_count": null,
      "outputs": []
    },
    {
      "cell_type": "code",
      "metadata": {
        "id": "QL0PzR81R45g"
      },
      "source": [
        "data_augmentation = tf.keras.Sequential([\n",
        "      preprocessing.Rescaling(1./255),\n",
        "      preprocessing.RandomFlip(\"horizontal_and_vertical\"),\n",
        "      preprocessing.RandomRotation(0.2),\n",
        "])"
      ],
      "execution_count": null,
      "outputs": []
    },
    {
      "cell_type": "code",
      "metadata": {
        "id": "IzkpyaulR45g"
      },
      "source": [
        "# Creating Ensemble Model\n",
        "\n",
        "inputs = tf.keras.Input(shape=(256,256,3))\n",
        "transformation1 = data_augmentation(inputs)\n",
        "transformation2 = data_augmentation(inputs)\n",
        "transformation3 = data_augmentation(inputs)\n",
        "\n",
        "feature_set1 = classifier(inputs, training=False)\n",
        "feature_set1 = layers.Dropout(0.5)(feature_set1)\n",
        "\n",
        "feature_set2 = classifier(transformation1, training=False)\n",
        "feature_set2 = layers.Dropout(0.5)(feature_set2)\n",
        "\n",
        "feature_set3 = classifier(transformation2, training=False)\n",
        "feature_set3 = layers.Dropout(0.5)(feature_set3)\n",
        "\n",
        "feature_set4 = classifier(transformation3, training=False)\n",
        "feature_set4 = layers.Dropout(0.5)(feature_set4)\n",
        "\n",
        "x = layers.concatenate([feature_set1, feature_set2, feature_set3, feature_set4])\n",
        "output = layers.Dense(1, activation='sigmoid')(x)\n",
        "\n",
        "melanoma_model = tf.keras.Model(inputs, output)"
      ],
      "execution_count": null,
      "outputs": []
    },
    {
      "cell_type": "code",
      "metadata": {
        "colab": {
          "base_uri": "https://localhost:8080/",
          "height": 564
        },
        "id": "pvFDuyq_R45h",
        "outputId": "012d3bb3-badd-444d-b011-35c670667516"
      },
      "source": [
        "tf.keras.utils.plot_model(melanoma_model)"
      ],
      "execution_count": null,
      "outputs": [
        {
          "output_type": "execute_result",
          "data": {
            "image/png": "[encoded data removed]",
            "text/plain": [
              "<IPython.core.display.Image object>"
            ]
          },
          "metadata": {
            "tags": []
          },
          "execution_count": 22
        }
      ]
    },
    {
      "cell_type": "code",
      "metadata": {
        "id": "BfXYM1aGR45i"
      },
      "source": [
        "melanoma_model.compile(optimizer=tf.keras.optimizers.Adam(0.001),\n",
        "              loss = tf.keras.losses.BinaryCrossentropy(),\n",
        "              metrics=[tf.keras.metrics.AUC()])"
      ],
      "execution_count": null,
      "outputs": []
    },
    {
      "cell_type": "code",
      "metadata": {
        "colab": {
          "base_uri": "https://localhost:8080/"
        },
        "id": "ZxhOlaEPR45i",
        "outputId": "dd0b366b-0818-453c-86c4-322f4161a1c6"
      },
      "source": [
        "m_train_ds.element_spec"
      ],
      "execution_count": null,
      "outputs": [
        {
          "output_type": "execute_result",
          "data": {
            "text/plain": [
              "(TensorSpec(shape=(None, 256, 256, 3), dtype=tf.float32, name=None),\n",
              " TensorSpec(shape=(None,), dtype=tf.int32, name=None))"
            ]
          },
          "metadata": {
            "tags": []
          },
          "execution_count": 24
        }
      ]
    },
    {
      "cell_type": "code",
      "metadata": {
        "id": "xDuhtANAR45i"
      },
      "source": [
        "history = melanoma_model.fit(m_train_ds, validation_data=m_valid_ds, epochs=20)"
      ],
      "execution_count": null,
      "outputs": []
    },
    {
      "cell_type": "code",
      "metadata": {
        "id": "1vLXnxSpRpNO"
      },
      "source": [
        "melanoma_model.save('/content/drive/MyDrive/checkpoints/assets_nv')"
      ],
      "execution_count": null,
      "outputs": []
    },
    {
      "cell_type": "code",
      "metadata": {
        "id": "yMaH3suU5FKI"
      },
      "source": [
        "melanoma_model = tf.keras.models.load_model('/content/drive/MyDrive/checkpoints/assets_nv')"
      ],
      "execution_count": null,
      "outputs": []
    },
    {
      "cell_type": "code",
      "metadata": {
        "id": "3AU1Xz4MTlN0"
      },
      "source": [
        "loss, acc = melanoma_model.evaluate(m_test_ds, verbose=2)"
      ],
      "execution_count": null,
      "outputs": []
    },
    {
      "cell_type": "markdown",
      "metadata": {
        "id": "9TCEAPecCXNn"
      },
      "source": [
        "## Combining the Models"
      ]
    },
    {
      "cell_type": "code",
      "metadata": {
        "id": "mn5ScKVtCdBW"
      },
      "source": [
        "melanoma_model = tf.keras.models.load_model('/content/drive/MyDrive/checkpoints/assets_nv')\n",
        "seborrheic_model = tf.keras.models.load_model('/content/drive/MyDrive/checkpoints')"
      ],
      "execution_count": null,
      "outputs": []
    },
    {
      "cell_type": "code",
      "metadata": {
        "id": "_CaAsLIin54V"
      },
      "source": [
        "inputs = tf.keras.Input([256,256,3])\n",
        "\n",
        "m_prediction = melanoma_model(inputs)\n",
        "sk_prediction = seborrheic_model(inputs)\n",
        "\n",
        "x = layers.concatenate([m_prediction, tf.ones_like(m_prediction)-m_prediction-sk_prediction, sk_prediction])\n",
        "output = layers.Activation('softmax')(x)\n",
        "\n",
        "model = tf.keras.Model(inputs, output)"
      ],
      "execution_count": null,
      "outputs": []
    },
    {
      "cell_type": "code",
      "metadata": {
        "colab": {
          "base_uri": "https://localhost:8080/"
        },
        "id": "VHT58_eRWU09",
        "outputId": "85a1c769-b2e8-4291-8cc9-64ce2c5f8420"
      },
      "source": [
        "model.summary()"
      ],
      "execution_count": null,
      "outputs": [
        {
          "output_type": "stream",
          "text": [
            "Model: \"functional_3\"\n",
            "__________________________________________________________________________________________________\n",
            "Layer (type)                    Output Shape         Param #     Connected to                     \n",
            "==================================================================================================\n",
            "input_3 (InputLayer)            [(None, 256, 256, 3) 0                                            \n",
            "__________________________________________________________________________________________________\n",
            "functional_1 (Functional)       (None, 1)            23508545    input_3[0][0]                    \n",
            "__________________________________________________________________________________________________\n",
            "tf_op_layer_Shape (TensorFlowOp [(2,)]               0           functional_1[0][0]               \n",
            "__________________________________________________________________________________________________\n",
            "tf_op_layer_Fill (TensorFlowOpL [(None, 1)]          0           tf_op_layer_Shape[0][0]          \n",
            "__________________________________________________________________________________________________\n",
            "tf_op_layer_Sub (TensorFlowOpLa [(None, 1)]          0           tf_op_layer_Fill[0][0]           \n",
            "                                                                 functional_1[0][0]               \n",
            "__________________________________________________________________________________________________\n",
            "functional_3 (Functional)       (None, 1)            23508545    input_3[0][0]                    \n",
            "__________________________________________________________________________________________________\n",
            "tf_op_layer_Sub_1 (TensorFlowOp [(None, 1)]          0           tf_op_layer_Sub[0][0]            \n",
            "                                                                 functional_3[0][0]               \n",
            "__________________________________________________________________________________________________\n",
            "concatenate_1 (Concatenate)     (None, 3)            0           functional_1[0][0]               \n",
            "                                                                 tf_op_layer_Sub_1[0][0]          \n",
            "                                                                 functional_3[0][0]               \n",
            "__________________________________________________________________________________________________\n",
            "activation (Activation)         (None, 3)            0           concatenate_1[0][0]              \n",
            "==================================================================================================\n",
            "Total params: 47,017,090\n",
            "Trainable params: 47,017,090\n",
            "Non-trainable params: 0\n",
            "__________________________________________________________________________________________________\n"
          ],
          "name": "stdout"
        }
      ]
    },
    {
      "cell_type": "code",
      "metadata": {
        "colab": {
          "base_uri": "https://localhost:8080/",
          "height": 758
        },
        "id": "digmG8BoPyup",
        "outputId": "425f32b6-096f-4ffb-a0f5-cdcd79ee8c97"
      },
      "source": [
        "tf.keras.utils.plot_model(model)"
      ],
      "execution_count": null,
      "outputs": [
        {
          "output_type": "execute_result",
          "data": {
            "image/png": "[encoded data removed]",
            "text/plain": [
              "<IPython.core.display.Image object>"
            ]
          },
          "metadata": {
            "tags": []
          },
          "execution_count": 31
        }
      ]
    },
    {
      "cell_type": "code",
      "metadata": {
        "id": "AbyurnBwPMTA"
      },
      "source": [
        "model.compile(\n",
        "    tf.keras.optimizers.Adam(),\n",
        "    tf.keras.losses.CategoricalCrossentropy(),\n",
        "    tf.keras.metrics.AUC()\n",
        ")"
      ],
      "execution_count": null,
      "outputs": []
    },
    {
      "cell_type": "code",
      "metadata": {
        "colab": {
          "base_uri": "https://localhost:8080/"
        },
        "id": "a2Da3tmdXoWv",
        "outputId": "7d3dd8ad-b7e3-4f4c-e8f6-a438d227404f"
      },
      "source": [
        "acc, loss = model.evaluate(test_ds, verbose=2)"
      ],
      "execution_count": null,
      "outputs": [
        {
          "output_type": "stream",
          "text": [
            "19/19 - 46s - loss: 0.8752 - auc_4: 0.8041\n"
          ],
          "name": "stdout"
        }
      ]
    },
    {
      "cell_type": "code",
      "metadata": {
        "colab": {
          "base_uri": "https://localhost:8080/"
        },
        "id": "jt7Cs0ZFZ2Nj",
        "outputId": "cf4e9562-551d-41bf-ab87-78e10b26e828"
      },
      "source": [
        "model.save('/content/drive/MyDrive/checkpoints/cancer_prediction')"
      ],
      "execution_count": null,
      "outputs": [
        {
          "output_type": "stream",
          "text": [
            "INFO:tensorflow:Assets written to: /content/drive/MyDrive/checkpoints/cancer_prediction/assets\n"
          ],
          "name": "stdout"
        },
        {
          "output_type": "stream",
          "text": [
            "INFO:tensorflow:Assets written to: /content/drive/MyDrive/checkpoints/cancer_prediction/assets\n"
          ],
          "name": "stderr"
        }
      ]
    }
  ]
}